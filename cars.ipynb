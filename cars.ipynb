{
  "nbformat": 4,
  "nbformat_minor": 0,
  "metadata": {
    "colab": {
      "provenance": [],
      "authorship_tag": "ABX9TyN84U8vjHwwF8Pq/V3tKgzv",
      "include_colab_link": true
    },
    "kernelspec": {
      "name": "python3",
      "display_name": "Python 3"
    },
    "language_info": {
      "name": "python"
    }
  },
  "cells": [
    {
      "cell_type": "markdown",
      "metadata": {
        "id": "view-in-github",
        "colab_type": "text"
      },
      "source": [
        "<a href=\"https://colab.research.google.com/github/sakthivel-023/NM-APEC-IT-GROUP3/blob/main/cars.ipynb\" target=\"_parent\"><img src=\"https://colab.research.google.com/assets/colab-badge.svg\" alt=\"Open In Colab\"/></a>"
      ]
    },
    {
      "cell_type": "code",
      "source": [
        "import requests\n",
        "from bs4 import BeautifulSoup\n",
        "import pandas as pd\n",
        "\n",
        "# URL of the Wikipedia page to scrape\n",
        "url = 'https://en.wikipedia.org/wiki/List_of_best-selling_automobiles'\n",
        "\n",
        "# Send a GET request to the website\n",
        "response = requests.get(url)\n",
        "\n",
        "# Check if the request was successful\n",
        "if response.status_code == 200:\n",
        "    # Parse the HTML content using BeautifulSoup\n",
        "    soup = BeautifulSoup(response.content, 'html.parser')\n",
        "\n",
        "    # Find the table containing car data\n",
        "    table = soup.find('table', {'class': 'wikitable'})\n",
        "\n",
        "    # Extract table headers\n",
        "    headers = []\n",
        "    for th in table.find_all('th'):\n",
        "        headers.append(th.text.strip())\n",
        "\n",
        "    # Create a list to store the extracted data\n",
        "    data = []\n",
        "\n",
        "    # Extract table rows\n",
        "    for row in table.find_all('tr')[1:]:  # Skip the header row\n",
        "        cells = row.find_all(['td', 'th'])\n",
        "        row_data = [cell.text.strip() for cell in cells]\n",
        "\n",
        "        # Ensure the row has the same number of columns as headers\n",
        "        if len(row_data) == len(headers):\n",
        "            data.append(row_data)\n",
        "        else:\n",
        "            # If the row has fewer columns, pad it with empty strings\n",
        "            if len(row_data) < len(headers):\n",
        "                row_data.extend([''] * (len(headers) - len(row_data)))\n",
        "                data.append(row_data)\n",
        "            else:\n",
        "                # If the row has more columns, truncate it\n",
        "                row_data = row_data[:len(headers)]\n",
        "                data.append(row_data)\n",
        "\n",
        "    # Convert the list to a DataFrame\n",
        "    df = pd.DataFrame(data, columns=headers)\n",
        "\n",
        "    # Save the DataFrame to an Excel file\n",
        "    df.to_excel('car_data.xlsx', index=False)\n",
        "\n",
        "    print(\"Car data has been successfully scraped and saved to 'car_data.xlsx'\")\n",
        "else:\n",
        "    print(f\"Failed to retrieve the webpage. Status code: {response.status_code}\")"
      ],
      "metadata": {
        "colab": {
          "base_uri": "https://localhost:8080/"
        },
        "id": "Si5yDxLDuzdn",
        "outputId": "cc7c09fa-3e0e-4f2a-feec-f5866a76e053"
      },
      "execution_count": 17,
      "outputs": [
        {
          "output_type": "stream",
          "name": "stdout",
          "text": [
            "Car data has been successfully scraped and saved to 'car_data.xlsx'\n"
          ]
        }
      ]
    },
    {
      "cell_type": "code",
      "source": [
        "import requests\n",
        "from bs4 import BeautifulSoup\n",
        "import pandas as pd\n",
        "\n",
        "# URL of the Wikipedia page to scrape\n",
        "url = 'https://en.wikipedia.org/wiki/List_of_best-selling_automobiles'\n",
        "\n",
        "# Send a GET request to the website\n",
        "response = requests.get(url)\n",
        "\n",
        "# Check if the request was successful\n",
        "if response.status_code == 200:\n",
        "    # Parse the HTML content using BeautifulSoup\n",
        "    soup = BeautifulSoup(response.content, 'html.parser')\n",
        "\n",
        "    # Find the table containing car data (adjust the table class or attributes as needed)\n",
        "    table = soup.find('table', {'class': 'wikitable'})\n",
        "\n",
        "    # Extract table headers\n",
        "    headers = []\n",
        "    for th in table.find_all('th'):\n",
        "        headers.append(th.text.strip())\n",
        "\n",
        "    # Create a list to store the extracted data\n",
        "    data = []\n",
        "\n",
        "    # Extract table rows\n",
        "    for row in table.find_all('tr')[1:]:  # Skip the header row\n",
        "        cells = row.find_all(['td', 'th'])\n",
        "        row_data = [cell.text.strip() for cell in cells]\n",
        "\n",
        "        # Ensure the row has the same number of columns as headers\n",
        "        if len(row_data) == len(headers):\n",
        "            data.append(row_data)\n",
        "        else:\n",
        "            # If the row has fewer columns, pad it with empty strings\n",
        "            if len(row_data) < len(headers):\n",
        "                row_data.extend([''] * (len(headers) - len(row_data)))\n",
        "                data.append(row_data)\n",
        "            else:\n",
        "                # If the row has more columns, truncate it\n",
        "                row_data = row_data[:len(headers)]\n",
        "                data.append(row_data)\n",
        "\n",
        "    # Convert the list to a DataFrame\n",
        "    df = pd.DataFrame(data, columns=headers)\n",
        "\n",
        "    # Save the DataFrame to an Excel file\n",
        "    df.to_excel('car_data1.xlsx', index=False)\n",
        "\n",
        "    print(\"Car data has been successfully scraped and saved to 'car_data1.xlsx'\")\n",
        "else:\n",
        "    print(f\"Failed to retrieve the webpage. Status code: {response.status_code}\")"
      ],
      "metadata": {
        "colab": {
          "base_uri": "https://localhost:8080/"
        },
        "id": "DfyA9BtxvYMK",
        "outputId": "8a5e5494-6eba-407b-84e0-d5eae966d6b0"
      },
      "execution_count": 16,
      "outputs": [
        {
          "output_type": "stream",
          "name": "stdout",
          "text": [
            "Car data has been successfully scraped and saved to 'car_data1.xlsx'\n"
          ]
        }
      ]
    }
  ]
}